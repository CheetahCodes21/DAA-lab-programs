{
 "cells": [
  {
   "cell_type": "code",
   "execution_count": null,
   "id": "c9cbb736-0c94-4098-b881-676115eaffc5",
   "metadata": {},
   "outputs": [],
   "source": [
    "class Job:\n",
    "    def __init__(self,taskId,deadline,profit):\n",
    "        self.taskId = taskId\n",
    "        self.deadline = deadline\n",
    "        self.profit = profit\n",
    "        \n",
    "def scheduleJobs(jobs, T):\n",
    "    profit = 0\n",
    "    slot = [-1]*T\n",
    "    jobs.sort(key=lambda x:x.profit,reverse=True)\n",
    "    for job in jobs:\n",
    "        for j in reversed(range(job.deadline)):\n",
    "            if j<T and slot[j] == -1:\n",
    "                slot[j]=job.taskId\n",
    "                profit += job.profit\n",
    "                break\n",
    "    print(\"The scheduled jobs are:\",list(filter(lambda x:x!=-1,slot)))\n",
    "    print(\"the total profit earned is:\",profit)\n",
    "if __name__ == '__main__':\n",
    "    jobs = []\n",
    "    n=int(input(\"Enter the number of jobs:\"))\n",
    "    for i in range(n):\n",
    "        taskId=int(input(f\"Enter the taskId for job {i+1}: \"))\n",
    "        deadline=int(input(f\"Enter the deadline for job {i+1}: \"))\n",
    "        profit=int(input(f\"Enter the profit for job {i+1}: \"))\n",
    "        jobs.append(Job(taskId, deadline, profit))\n",
    "    T=int(input(\"Enter the dealine limit:\"))\n",
    "    scheduleJobs(jobs, T)"
   ]
  }
 ],
 "metadata": {
  "kernelspec": {
   "display_name": "Python 3 (ipykernel)",
   "language": "python",
   "name": "python3"
  },
  "language_info": {
   "codemirror_mode": {
    "name": "ipython",
    "version": 3
   },
   "file_extension": ".py",
   "mimetype": "text/x-python",
   "name": "python",
   "nbconvert_exporter": "python",
   "pygments_lexer": "ipython3",
   "version": "3.10.8"
  },
  "toc-autonumbering": false,
  "toc-showcode": false,
  "toc-showmarkdowntxt": false
 },
 "nbformat": 4,
 "nbformat_minor": 5
}
