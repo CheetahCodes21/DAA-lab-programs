{
 "cells": [
  {
   "cell_type": "code",
   "execution_count": 1,
   "id": "b27e3aaa-5b51-4108-b8a5-4d3f40954e6b",
   "metadata": {},
   "outputs": [
    {
     "name": "stdout",
     "output_type": "stream",
     "text": [
      "enter the number of vertices: 6\n"
     ]
    },
    {
     "name": "stdout",
     "output_type": "stream",
     "text": [
      "enter the weighted matrix (seperated by space):\n"
     ]
    },
    {
     "name": "stdout",
     "output_type": "stream",
     "text": [
      " 0 4 5 0 0 0\n",
      " 4 0 11 9 7 0\n",
      " 5 11 0 0 3 0\n",
      " 0 9 0 13 2\n"
     ]
    },
    {
     "ename": "IndexError",
     "evalue": "list index out of range",
     "output_type": "error",
     "traceback": [
      "\u001b[0;31m---------------------------------------------------------------------------\u001b[0m",
      "\u001b[0;31mIndexError\u001b[0m                                Traceback (most recent call last)",
      "Cell \u001b[0;32mIn[1], line 30\u001b[0m\n\u001b[1;32m     28\u001b[0m row\u001b[38;5;241m=\u001b[39m\u001b[38;5;28mlist\u001b[39m(\u001b[38;5;28mmap\u001b[39m(\u001b[38;5;28mint\u001b[39m ,\u001b[38;5;28minput\u001b[39m()\u001b[38;5;241m.\u001b[39msplit()))\n\u001b[1;32m     29\u001b[0m \u001b[38;5;28;01mfor\u001b[39;00m j \u001b[38;5;129;01min\u001b[39;00m \u001b[38;5;28mrange\u001b[39m(\u001b[38;5;241m1\u001b[39m,n\u001b[38;5;241m+\u001b[39m\u001b[38;5;241m1\u001b[39m,\u001b[38;5;241m1\u001b[39m):\n\u001b[0;32m---> 30\u001b[0m     cost[i][j]\u001b[38;5;241m=\u001b[39m\u001b[43mrow\u001b[49m\u001b[43m[\u001b[49m\u001b[43mj\u001b[49m\u001b[38;5;241;43m-\u001b[39;49m\u001b[38;5;241;43m1\u001b[39;49m\u001b[43m]\u001b[49m\n\u001b[1;32m     31\u001b[0m     \u001b[38;5;28;01mif\u001b[39;00m cost[i][j]\u001b[38;5;241m==\u001b[39m\u001b[38;5;241m0\u001b[39m:\n\u001b[1;32m     32\u001b[0m         cost[i][j]\u001b[38;5;241m=\u001b[39m\u001b[38;5;28mfloat\u001b[39m(\u001b[38;5;124m'\u001b[39m\u001b[38;5;124minf\u001b[39m\u001b[38;5;124m'\u001b[39m)\n",
      "\u001b[0;31mIndexError\u001b[0m: list index out of range"
     ]
    }
   ],
   "source": [
    "def dij(n,v,cost):\n",
    "    flag=[0 for x in range(1,n+2,1)]\n",
    "    dist=[float('inf') for x in range(1,n+2,1)]\n",
    "    dist[v]=0\n",
    "    path=[[] for x in range(1,n+2,1)]\n",
    "    path[v].append(v)\n",
    "    \n",
    "    for _  in range(1,n+1,1):\n",
    "        u=-1\n",
    "        min_dist =float('inf')\n",
    "        for w in range (1,n+1,1):\n",
    "            if not flag[w] and dist[w]<min_dist:\n",
    "                u=w\n",
    "                min_dist=dist[w]\n",
    "        if u == -1:\n",
    "            break\n",
    "        flag[u]=1\n",
    "        \n",
    "        for w in range(1,n+1,1):\n",
    "            if dist[u]+cost[u][w]<dist[w]:\n",
    "                dist[w]=dist[u]+cost[u][w]\n",
    "                path[w]=path[u]+[w]\n",
    "    return dist,path   \n",
    "n=int(input(\"enter the number of vertices:\"))\n",
    "print(\"enter the weighted matrix (seperated by space):\")\n",
    "cost=[[0 for i in range(1,n+2,1)] for i in range(1,n+2,1)]\n",
    "for i in range(1,n+1,1):\n",
    "    row=list(map(int ,input().split()))\n",
    "    for j in range(1,n+1,1):\n",
    "        cost[i][j]=row[j-1]\n",
    "        if cost[i][j]==0:\n",
    "            cost[i][j]=float('inf')\n",
    "v=int(input(\"enter the source vertex:\"))    \n",
    "dist,path=dij(n,v,cost)\n",
    "print(\"the shortest path from source\",v,\"to the remaining vertices is:\")\n",
    "for i in range (1,n+1,1):\n",
    "    if i != v:\n",
    "\n",
    "\n",
    "        print(v,\"->\",\"->\".join(map(str,path[i][1:])),\"=\",dist[i])"
   ]
  },
  {
   "cell_type": "code",
   "execution_count": null,
   "id": "97cddbb4-776c-4418-9cbb-f64630df2e21",
   "metadata": {},
   "outputs": [],
   "source": []
  }
 ],
 "metadata": {
  "kernelspec": {
   "display_name": "Python 3 (ipykernel)",
   "language": "python",
   "name": "python3"
  },
  "language_info": {
   "codemirror_mode": {
    "name": "ipython",
    "version": 3
   },
   "file_extension": ".py",
   "mimetype": "text/x-python",
   "name": "python",
   "nbconvert_exporter": "python",
   "pygments_lexer": "ipython3",
   "version": "3.10.8"
  }
 },
 "nbformat": 4,
 "nbformat_minor": 5
}
