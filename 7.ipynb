{
 "cells": [
  {
   "cell_type": "code",
   "execution_count": null,
   "id": "9e76c065-bfa0-4c1d-a740-99e9ae644ef2",
   "metadata": {},
   "outputs": [],
   "source": [
    "class Sales:\n",
    "    def __init__(self):\n",
    "        self.cost_opt= 0\n",
    "        self.a=[[0 for _ in range(100)] for _ in range(100)]\n",
    "        self.visit=[0]*100\n",
    "    def mincost_opt(self, city, n):\n",
    "        self.visit[city]= 1\n",
    "        print(city,\"-->\", end= \" \")\n",
    "        ncity= self.least_opt(city, n)\n",
    "        if ncity== 999:\n",
    "            ncity= 1\n",
    "            print(ncity)\n",
    "            self.cost_opt+= self.a[city][ncity]\n",
    "            return\n",
    "        self.mincost_opt(ncity, n)\n",
    "    def least_opt(self, c, n):\n",
    "        nc= 999\n",
    "        min_val= 999\n",
    "        kmin= 999\n",
    "        for i in range(1, n+1):\n",
    "            if self.a[c][i]!=0 and self.visit[i]==0:\n",
    "                if self.a[c][i]<min_val:\n",
    "                    min_val= self.a[i][1]+self.a[c][i]\n",
    "                    kmin= self.a[c][i]\n",
    "                    nc= i\n",
    "        if min_val != 999:\n",
    "            self.cost_opt+= kmin\n",
    "        return nc\n",
    "def main():\n",
    "    x= Sales()\n",
    "    n= int(input(\"Enter number of cities:\"))\n",
    "    print(\"Number of cost matrix:\")\n",
    "    for i in range(1, n+1):\n",
    "        row= list(map(int, input().split()))\n",
    "        for j in range(1, n+1):\n",
    "            x.a[i][j]= row[j-1]\n",
    "        x.visit[i] = 0\n",
    "    print(\"The cost matrix is:\")\n",
    "    for i in range(1, n+1):\n",
    "        for j in range(1, n+1):\n",
    "            print(x.a[i][j], end= \"\\t\")\n",
    "        print()\n",
    "    print(\"Optimal solution:\")\n",
    "    print(\"The path is:\")\n",
    "    x.mincost_opt(1, n)\n",
    "    print(\"minimum cost is\", x.cost_opt)\n",
    "if __name__ == \"__main__\":\n",
    "    main()"
   ]
  }
 ],
 "metadata": {
  "kernelspec": {
   "display_name": "Python 3 (ipykernel)",
   "language": "python",
   "name": "python3"
  },
  "language_info": {
   "codemirror_mode": {
    "name": "ipython",
    "version": 3
   },
   "file_extension": ".py",
   "mimetype": "text/x-python",
   "name": "python",
   "nbconvert_exporter": "python",
   "pygments_lexer": "ipython3",
   "version": "3.10.8"
  }
 },
 "nbformat": 4,
 "nbformat_minor": 5
}
