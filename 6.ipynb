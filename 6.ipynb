{
 "cells": [
  {
   "cell_type": "code",
   "execution_count": null,
   "id": "3f7d105f-7d8a-440d-a7b5-f0c76d8f27e3",
   "metadata": {},
   "outputs": [],
   "source": [
    "def knapsack_solve(wt, val, W, N):\n",
    "    sol = [[0 for _ in range(W+1)] for _ in range(N+1)]\n",
    "    selected = [0]*(N+1)\n",
    "    for i in range(1, N+1):\n",
    "        for j in range(1, W+1):\n",
    "            if wt[i]>j:\n",
    "                sol[i][j]= sol[i-1][j]\n",
    "            else:\n",
    "                sol[i][j]= max(sol[i-1][j], sol[i-1][j-wt[i]]+val[i])\n",
    "    print(\"The optimal solution is:\", sol[N][W])\n",
    "    i, j=N, W\n",
    "    while i>0 and j>0:\n",
    "        if sol[i][j]!=sol[i-1][j]:\n",
    "            selected[i]= 1\n",
    "            j-= wt[i]\n",
    "        i-=1\n",
    "    print(\"\\n Items selected:\")\n",
    "    for i in range(1, N+1):\n",
    "        if selected[i]==1:\n",
    "             print(i, end=\"\")\n",
    "    print()\n",
    "def main():\n",
    "    n= int(input(\"Enter the number of elements:\"))\n",
    "    wt= [0]*(n+1)\n",
    "    val= [0]*(n+1)\n",
    "    print(\"\\n Enter weight of\",n , \"elements(seperated by spaces):\")\n",
    "    wt_input= input().split()\n",
    "    for i in range(1, n+1):\n",
    "        wt[i]= int(wt_input[i-1])\n",
    "    print(\"\\n Enter values of\", n, \"elements(sepersted by spaces):\")\n",
    "    val_input= input().split()\n",
    "    for i in range(1, n+1):\n",
    "        val[i]= int(val_input[i-1])\n",
    "    W=int(input(\"\\n Enter the knapsack capacity:\"))\n",
    "    knapsack_solve(wt, val, W,n)\n",
    "if __name__==\"__main__\":\n",
    "    main()"
   ]
  }
 ],
 "metadata": {
  "kernelspec": {
   "display_name": "Python 3 (ipykernel)",
   "language": "python",
   "name": "python3"
  },
  "language_info": {
   "codemirror_mode": {
    "name": "ipython",
    "version": 3
   },
   "file_extension": ".py",
   "mimetype": "text/x-python",
   "name": "python",
   "nbconvert_exporter": "python",
   "pygments_lexer": "ipython3",
   "version": "3.10.8"
  }
 },
 "nbformat": 4,
 "nbformat_minor": 5
}
