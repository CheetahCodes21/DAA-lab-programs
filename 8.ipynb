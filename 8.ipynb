{
 "cells": [
  {
   "cell_type": "code",
   "execution_count": 1,
   "id": "beb18efd",
   "metadata": {},
   "outputs": [
    {
     "name": "stdout",
     "output_type": "stream",
     "text": [
      "Enter the number of subjects: 4\n",
      "Enter subject 1: MATHS\n",
      "Enter the number of students for MATHS: 3\n",
      "Enter student 1 for MATHS: ALICE\n",
      "Enter student 2 for MATHS: BOB\n",
      "Enter student 3 for MATHS: CHARLI\n",
      "Enter subject 2: PHYSICS\n",
      "Enter the number of students for PHYSICS: 3\n",
      "Enter student 1 for PHYSICS: DAVID\n",
      "Enter student 2 for PHYSICS: ALICE\n",
      "Enter student 3 for PHYSICS: CHARLI\n",
      "Enter subject 3: CHEMISTRY\n",
      "Enter the number of students for CHEMISTRY: 3\n",
      "Enter student 1 for CHEMISTRY: BOB\n",
      "Enter student 2 for CHEMISTRY: CHARLI\n",
      "Enter student 3 for CHEMISTRY: EVE\n",
      "Enter subject 4: BIOLOGY\n",
      "Enter the number of students for BIOLOGY: 3\n",
      "Enter student 1 for BIOLOGY: ALICE\n",
      "Enter student 2 for BIOLOGY: DAVID\n",
      "Enter student 3 for BIOLOGY: EVE\n",
      "Enter the number of edges: 4\n",
      "Enter edge (subject1 subject2):MATHS PHYSICS\n",
      "Enter edge (subject1 subject2):MATHS CHEMISTRY\n",
      "Enter edge (subject1 subject2):PHYSICS CHEMISTRY\n",
      "Enter edge (subject1 subject2):PHYSICS BIOLOGY\n",
      "Minimum time slots needed: 3\n"
     ]
    }
   ],
   "source": [
    "from  collections import defaultdict\n",
    "class Graph:\n",
    "    def __init__(self,subjects):\n",
    "        self.subjects=subjects\n",
    "        self.graph=defaultdict(list)\n",
    "    def add_edge(self,subject1,subject2):\n",
    "        self.graph[subject1].append(subject2)\n",
    "        self.graph[subject2].append(subject1)\n",
    "    \n",
    "    def graph_coloring(self):\n",
    "        color_map = {}\n",
    "        available_colors = set(range(1, len(self.subjects) + 1))\n",
    "        for subject in self.subjects:\n",
    "            used_colors = set()\n",
    "            for neighbor in self.graph[subject]:\n",
    "                if neighbor in color_map:\n",
    "                    used_colors.add(color_map[neighbor])\n",
    "            available_color = available_colors - used_colors\n",
    "            if available_color:\n",
    "                color_map[subject] = min(available_color)\n",
    "            else:\n",
    "                color_map[subject] = len(available_colors) + 1\n",
    "                available_colors.add(color_map[subject])\n",
    "        return color_map\n",
    "    \n",
    "    def get_minimum_time_slots(self):\n",
    "        color_map = self.graph_coloring()\n",
    "        return max(color_map.values())\n",
    "def main():\n",
    "    num_subjects = int(input(\"Enter the number of subjects: \"))\n",
    "    subjects = []\n",
    "    students = {}\n",
    "    for i in range(num_subjects):\n",
    "        subject = input(f\"Enter subject {i + 1}: \")\n",
    "        subjects.append(subject)\n",
    "        num_students = int(input(f\"Enter the number of students for {subject}: \"))\n",
    "        student_list = []\n",
    "        for j in range(num_students):\n",
    "            student = input(f\"Enter student {j + 1} for {subject}: \")\n",
    "            student_list.append(student)\n",
    "            students[subject] = student_list\n",
    "            \n",
    "    graph = Graph(subjects)\n",
    "    num_edges = int(input(\"Enter the number of edges: \"))\n",
    "    for _ in range(num_edges):\n",
    "        edge = input(\"Enter edge (subject1 subject2):\").split()\n",
    "        graph.add_edge(edge[0], edge[1])\n",
    "    \n",
    "    minimum_time_slots = graph.get_minimum_time_slots()\n",
    "    print(f\"Minimum time slots needed: {minimum_time_slots}\")\n",
    "\n",
    "if __name__==\"__main__\":\n",
    "    main()\n",
    "        "
   ]
  },
  {
   "cell_type": "code",
   "execution_count": null,
   "id": "70091efa",
   "metadata": {},
   "outputs": [],
   "source": []
  },
  {
   "cell_type": "code",
   "execution_count": null,
   "id": "4a0613e6",
   "metadata": {},
   "outputs": [],
   "source": []
  },
  {
   "cell_type": "code",
   "execution_count": null,
   "id": "1c131282",
   "metadata": {},
   "outputs": [],
   "source": []
  }
 ],
 "metadata": {
  "kernelspec": {
   "display_name": "Python 3 (ipykernel)",
   "language": "python",
   "name": "python3"
  },
  "language_info": {
   "codemirror_mode": {
    "name": "ipython",
    "version": 3
   },
   "file_extension": ".py",
   "mimetype": "text/x-python",
   "name": "python",
   "nbconvert_exporter": "python",
   "pygments_lexer": "ipython3",
   "version": "3.10.9"
  }
 },
 "nbformat": 4,
 "nbformat_minor": 5
}
